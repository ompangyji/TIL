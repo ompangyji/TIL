{
 "cells": [
  {
   "cell_type": "code",
   "execution_count": 24,
   "id": "63fd827b",
   "metadata": {},
   "outputs": [
    {
     "name": "stdout",
     "output_type": "stream",
     "text": [
      "부모 클래스 생정자 실행\n",
      "inpuit : good\n"
     ]
    }
   ],
   "source": [
    "class Parent:\n",
    "    \n",
    "    def __init__(self, input1):\n",
    "        print('부모 클래스 생정자 실행')\n",
    "        print(f'inpuit : {input1}')\n",
    "        \n",
    "class Child(Parent):\n",
    "    pass\n",
    "        \n",
    "child = Child('good')\n"
   ]
  },
  {
   "cell_type": "code",
   "execution_count": 36,
   "id": "7aad1e8d",
   "metadata": {},
   "outputs": [
    {
     "name": "stdout",
     "output_type": "stream",
     "text": [
      "안녕하세요. 정 연지입니다.\n",
      "정\n"
     ]
    }
   ],
   "source": [
    "class Parent:\n",
    "    \n",
    "    def __init__(self, first_name, last_name):\n",
    "        self.first_name = '정'\n",
    "        self.last_name = '연지'\n",
    "    \n",
    "    def hello(self):\n",
    "        print(f'안녕하세요. {self.first_name} {self.last_name}입니다.')\n",
    "        \n",
    "class Child(Parent):\n",
    "    def __init__(self, first_name, last_name):\n",
    "        self.first_name = first_name\n",
    "        self.last_name = last_name\n",
    "        \n",
    "child = Child('jung','yeonji')\n",
    "child.hello()\n",
    "print(child.first_name)"
   ]
  },
  {
   "cell_type": "markdown",
   "id": "17a78f87",
   "metadata": {},
   "source": [
    "super"
   ]
  },
  {
   "cell_type": "code",
   "execution_count": 32,
   "id": "30bddb18",
   "metadata": {},
   "outputs": [
    {
     "name": "stdout",
     "output_type": "stream",
     "text": [
      "안녕하세요. 정 yeonji입니다.\n",
      "정\n"
     ]
    }
   ],
   "source": [
    "class Parent:\n",
    "    \n",
    "    def __init__(self, first_name):\n",
    "        self.first_name = '정'\n",
    "    \n",
    "    def hello(self):\n",
    "        print(f'안녕하세요. {self.first_name}')\n",
    "        \n",
    "class Child(Parent):\n",
    "    def __init__(self, first_name, last_name):\n",
    "        super().__init__(first_name)\n",
    "        self.last_name = last_name\n",
    "    def hello(self):\n",
    "        print(f'안녕하세요. {self.first_name} {self.last_name}입니다.')\n",
    "        \n",
    "child = Child('jung','yeonji')\n",
    "child.hello()"
   ]
  },
  {
   "cell_type": "markdown",
   "id": "26c8dd3d",
   "metadata": {},
   "source": [
    "다중상속"
   ]
  },
  {
   "cell_type": "code",
   "execution_count": 37,
   "id": "a95bfde4",
   "metadata": {},
   "outputs": [
    {
     "name": "stdout",
     "output_type": "stream",
     "text": [
      "xy\n",
      "~~\n",
      "<<\n",
      "<<\n"
     ]
    }
   ],
   "source": [
    "class Person:\n",
    "    def __init__(self, name):\n",
    "        self.name = name\n",
    "    \n",
    "    def hello1(self):\n",
    "        print('~~')\n",
    "        \n",
    "class Dad(Person):\n",
    "    gene = 'xy'\n",
    "    \n",
    "    def hello2(self):\n",
    "            print('<<')\n",
    "\n",
    "class Mom(Person):\n",
    "    gene = 'xx'\n",
    "    \n",
    "    def hello3(self):\n",
    "            print('<<')\n",
    "            \n",
    "class Baby (Dad, Mom):\n",
    "    pass\n",
    "            \n",
    "        \n",
    "b = Baby('금쪽이')\n",
    "\n",
    "print(b.gene)\n",
    "b.hello1()\n",
    "b.hello2()\n",
    "b.hello3()"
   ]
  },
  {
   "cell_type": "markdown",
   "id": "a75cff0a",
   "metadata": {},
   "source": [
    "오버라이딩"
   ]
  },
  {
   "cell_type": "code",
   "execution_count": 43,
   "id": "63a14134",
   "metadata": {},
   "outputs": [],
   "source": [
    "class Study:\n",
    "    def __init__ (self, study):\n",
    "        self.study= study\n",
    "        print(f\"{study} 공부 중!\")\n",
    "    def end(self, theme):\n",
    "        print(f\"{self.study}에서 {theme}을/를 마스터했습니다.\")\n",
    "        \n",
    "class Subject(Study):\n",
    "    def __init__ (self, study):\n",
    "        self.study = study\n",
    "    def end(self, theme):\n",
    "        print(f\"{self.study}에서 {theme}을/를 공부 중!\")"
   ]
  },
  {
   "cell_type": "code",
   "execution_count": 45,
   "id": "748ab3f5",
   "metadata": {},
   "outputs": [
    {
     "name": "stdout",
     "output_type": "stream",
     "text": [
      "Python에서 오버라이딩을/를 공부 중!\n"
     ]
    }
   ],
   "source": [
    "study = Subject('Python')\n",
    "study.end('오버라이딩')"
   ]
  },
  {
   "cell_type": "code",
   "execution_count": null,
   "id": "abb2e198",
   "metadata": {},
   "outputs": [],
   "source": []
  }
 ],
 "metadata": {
  "kernelspec": {
   "display_name": "Python 3 (ipykernel)",
   "language": "python",
   "name": "python3"
  },
  "language_info": {
   "codemirror_mode": {
    "name": "ipython",
    "version": 3
   },
   "file_extension": ".py",
   "mimetype": "text/x-python",
   "name": "python",
   "nbconvert_exporter": "python",
   "pygments_lexer": "ipython3",
   "version": "3.11.4"
  }
 },
 "nbformat": 4,
 "nbformat_minor": 5
}
